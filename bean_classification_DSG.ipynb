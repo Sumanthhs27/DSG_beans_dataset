{
  "nbformat": 4,
  "nbformat_minor": 0,
  "metadata": {
    "accelerator": "GPU",
    "colab": {
      "name": "bean_classification_DSG.ipynb",
      "provenance": [],
      "collapsed_sections": [],
      "toc_visible": true
    },
    "kernelspec": {
      "display_name": "Python 3",
      "name": "python3"
    },
    "language_info": {
      "name": "python"
    }
  },
  "cells": [
    {
      "cell_type": "code",
      "metadata": {
        "id": "dY6IGXajUffc"
      },
      "source": [
        ""
      ],
      "execution_count": null,
      "outputs": []
    },
    {
      "cell_type": "markdown",
      "metadata": {
        "id": "artiBgAAa-ZC"
      },
      "source": [
        "# Preamble"
      ]
    },
    {
      "cell_type": "code",
      "metadata": {
        "id": "q2jYzNDVa76C"
      },
      "source": [
        "import pandas as pd\n",
        "import numpy as np\n",
        "import matplotlib.pyplot as plt\n",
        "%matplotlib inline"
      ],
      "execution_count": null,
      "outputs": []
    },
    {
      "cell_type": "code",
      "metadata": {
        "id": "cMiFZwvjbHzy"
      },
      "source": [
        "import seaborn as sns"
      ],
      "execution_count": null,
      "outputs": []
    },
    {
      "cell_type": "code",
      "metadata": {
        "id": "7T1pNiwYbK_g"
      },
      "source": [
        "from sklearn.preprocessing import MinMaxScaler"
      ],
      "execution_count": null,
      "outputs": []
    },
    {
      "cell_type": "code",
      "metadata": {
        "id": "MBy-5aXVbMAL"
      },
      "source": [
        "from sklearn.model_selection import train_test_split"
      ],
      "execution_count": null,
      "outputs": []
    },
    {
      "cell_type": "code",
      "metadata": {
        "id": "IkkP_TU4wa49"
      },
      "source": [
        "from sklearn import metrics"
      ],
      "execution_count": null,
      "outputs": []
    },
    {
      "cell_type": "markdown",
      "metadata": {
        "id": "cqaYHYKNbNcz"
      },
      "source": [
        "# 2. Data Preprocessing"
      ]
    },
    {
      "cell_type": "code",
      "metadata": {
        "colab": {
          "base_uri": "https://localhost:8080/",
          "height": 224
        },
        "id": "rmRboRM6bLrf",
        "outputId": "ceb40fae-1307-44fb-cdb6-e7bf8ab4a8a7"
      },
      "source": [
        "df = pd.read_excel('Dry_Bean_Dataset.xlsx')\n",
        "df.head()"
      ],
      "execution_count": null,
      "outputs": [
        {
          "output_type": "execute_result",
          "data": {
            "text/html": [
              "<div>\n",
              "<style scoped>\n",
              "    .dataframe tbody tr th:only-of-type {\n",
              "        vertical-align: middle;\n",
              "    }\n",
              "\n",
              "    .dataframe tbody tr th {\n",
              "        vertical-align: top;\n",
              "    }\n",
              "\n",
              "    .dataframe thead th {\n",
              "        text-align: right;\n",
              "    }\n",
              "</style>\n",
              "<table border=\"1\" class=\"dataframe\">\n",
              "  <thead>\n",
              "    <tr style=\"text-align: right;\">\n",
              "      <th></th>\n",
              "      <th>Area</th>\n",
              "      <th>Perimeter</th>\n",
              "      <th>MajorAxisLength</th>\n",
              "      <th>MinorAxisLength</th>\n",
              "      <th>AspectRation</th>\n",
              "      <th>Eccentricity</th>\n",
              "      <th>ConvexArea</th>\n",
              "      <th>EquivDiameter</th>\n",
              "      <th>Extent</th>\n",
              "      <th>Solidity</th>\n",
              "      <th>roundness</th>\n",
              "      <th>Compactness</th>\n",
              "      <th>ShapeFactor1</th>\n",
              "      <th>ShapeFactor2</th>\n",
              "      <th>ShapeFactor3</th>\n",
              "      <th>ShapeFactor4</th>\n",
              "      <th>Class</th>\n",
              "    </tr>\n",
              "  </thead>\n",
              "  <tbody>\n",
              "    <tr>\n",
              "      <th>0</th>\n",
              "      <td>28395</td>\n",
              "      <td>610.291</td>\n",
              "      <td>208.178117</td>\n",
              "      <td>173.888747</td>\n",
              "      <td>1.197191</td>\n",
              "      <td>0.549812</td>\n",
              "      <td>28715</td>\n",
              "      <td>190.141097</td>\n",
              "      <td>0.763923</td>\n",
              "      <td>0.988856</td>\n",
              "      <td>0.958027</td>\n",
              "      <td>0.913358</td>\n",
              "      <td>0.007332</td>\n",
              "      <td>0.003147</td>\n",
              "      <td>0.834222</td>\n",
              "      <td>0.998724</td>\n",
              "      <td>SEKER</td>\n",
              "    </tr>\n",
              "    <tr>\n",
              "      <th>1</th>\n",
              "      <td>28734</td>\n",
              "      <td>638.018</td>\n",
              "      <td>200.524796</td>\n",
              "      <td>182.734419</td>\n",
              "      <td>1.097356</td>\n",
              "      <td>0.411785</td>\n",
              "      <td>29172</td>\n",
              "      <td>191.272750</td>\n",
              "      <td>0.783968</td>\n",
              "      <td>0.984986</td>\n",
              "      <td>0.887034</td>\n",
              "      <td>0.953861</td>\n",
              "      <td>0.006979</td>\n",
              "      <td>0.003564</td>\n",
              "      <td>0.909851</td>\n",
              "      <td>0.998430</td>\n",
              "      <td>SEKER</td>\n",
              "    </tr>\n",
              "    <tr>\n",
              "      <th>2</th>\n",
              "      <td>29380</td>\n",
              "      <td>624.110</td>\n",
              "      <td>212.826130</td>\n",
              "      <td>175.931143</td>\n",
              "      <td>1.209713</td>\n",
              "      <td>0.562727</td>\n",
              "      <td>29690</td>\n",
              "      <td>193.410904</td>\n",
              "      <td>0.778113</td>\n",
              "      <td>0.989559</td>\n",
              "      <td>0.947849</td>\n",
              "      <td>0.908774</td>\n",
              "      <td>0.007244</td>\n",
              "      <td>0.003048</td>\n",
              "      <td>0.825871</td>\n",
              "      <td>0.999066</td>\n",
              "      <td>SEKER</td>\n",
              "    </tr>\n",
              "    <tr>\n",
              "      <th>3</th>\n",
              "      <td>30008</td>\n",
              "      <td>645.884</td>\n",
              "      <td>210.557999</td>\n",
              "      <td>182.516516</td>\n",
              "      <td>1.153638</td>\n",
              "      <td>0.498616</td>\n",
              "      <td>30724</td>\n",
              "      <td>195.467062</td>\n",
              "      <td>0.782681</td>\n",
              "      <td>0.976696</td>\n",
              "      <td>0.903936</td>\n",
              "      <td>0.928329</td>\n",
              "      <td>0.007017</td>\n",
              "      <td>0.003215</td>\n",
              "      <td>0.861794</td>\n",
              "      <td>0.994199</td>\n",
              "      <td>SEKER</td>\n",
              "    </tr>\n",
              "    <tr>\n",
              "      <th>4</th>\n",
              "      <td>30140</td>\n",
              "      <td>620.134</td>\n",
              "      <td>201.847882</td>\n",
              "      <td>190.279279</td>\n",
              "      <td>1.060798</td>\n",
              "      <td>0.333680</td>\n",
              "      <td>30417</td>\n",
              "      <td>195.896503</td>\n",
              "      <td>0.773098</td>\n",
              "      <td>0.990893</td>\n",
              "      <td>0.984877</td>\n",
              "      <td>0.970516</td>\n",
              "      <td>0.006697</td>\n",
              "      <td>0.003665</td>\n",
              "      <td>0.941900</td>\n",
              "      <td>0.999166</td>\n",
              "      <td>SEKER</td>\n",
              "    </tr>\n",
              "  </tbody>\n",
              "</table>\n",
              "</div>"
            ],
            "text/plain": [
              "    Area  Perimeter  MajorAxisLength  ...  ShapeFactor3  ShapeFactor4  Class\n",
              "0  28395    610.291       208.178117  ...      0.834222      0.998724  SEKER\n",
              "1  28734    638.018       200.524796  ...      0.909851      0.998430  SEKER\n",
              "2  29380    624.110       212.826130  ...      0.825871      0.999066  SEKER\n",
              "3  30008    645.884       210.557999  ...      0.861794      0.994199  SEKER\n",
              "4  30140    620.134       201.847882  ...      0.941900      0.999166  SEKER\n",
              "\n",
              "[5 rows x 17 columns]"
            ]
          },
          "metadata": {
            "tags": []
          },
          "execution_count": 5
        }
      ]
    },
    {
      "cell_type": "code",
      "metadata": {
        "colab": {
          "base_uri": "https://localhost:8080/"
        },
        "id": "Dn5G6YvFej2i",
        "outputId": "a2e36ab5-113a-42c0-863f-03198c9db028"
      },
      "source": [
        "df.isnull().sum()"
      ],
      "execution_count": null,
      "outputs": [
        {
          "output_type": "execute_result",
          "data": {
            "text/plain": [
              "Area               0\n",
              "Perimeter          0\n",
              "MajorAxisLength    0\n",
              "MinorAxisLength    0\n",
              "AspectRation       0\n",
              "Eccentricity       0\n",
              "ConvexArea         0\n",
              "EquivDiameter      0\n",
              "Extent             0\n",
              "Solidity           0\n",
              "roundness          0\n",
              "Compactness        0\n",
              "ShapeFactor1       0\n",
              "ShapeFactor2       0\n",
              "ShapeFactor3       0\n",
              "ShapeFactor4       0\n",
              "Class              0\n",
              "dtype: int64"
            ]
          },
          "metadata": {
            "tags": []
          },
          "execution_count": 6
        }
      ]
    },
    {
      "cell_type": "code",
      "metadata": {
        "id": "n0C224DjbLlf"
      },
      "source": [
        ""
      ],
      "execution_count": null,
      "outputs": []
    },
    {
      "cell_type": "code",
      "metadata": {
        "id": "cP19bg6_bLin"
      },
      "source": [
        "\n"
      ],
      "execution_count": null,
      "outputs": []
    },
    {
      "cell_type": "code",
      "metadata": {
        "colab": {
          "base_uri": "https://localhost:8080/",
          "height": 35
        },
        "id": "Y1ZRXJ2ocppe",
        "outputId": "33f80716-8405-4fff-f9c7-c8186a0aef93"
      },
      "source": [
        "\"\"\"\n",
        "def scaling(X)\n",
        "  scaler = MinMaxScaler\n",
        "  X_scaled = scaler.transform(X)\n",
        "  return X_scaled\n",
        "\"\"\""
      ],
      "execution_count": 108,
      "outputs": [
        {
          "output_type": "execute_result",
          "data": {
            "application/vnd.google.colaboratory.intrinsic+json": {
              "type": "string"
            },
            "text/plain": [
              "'\\ndef scaling(X)\\n  scaler = MinMaxScaler\\n  X_scaled = scaler.transform(X)\\n  return X_scaled\\n'"
            ]
          },
          "metadata": {
            "tags": []
          },
          "execution_count": 108
        }
      ]
    },
    {
      "cell_type": "markdown",
      "metadata": {
        "id": "pq85zkFCeQkB"
      },
      "source": [
        "# EDA"
      ]
    },
    {
      "cell_type": "code",
      "metadata": {
        "id": "RH2ZQKSteKJz"
      },
      "source": [
        "#sns.pairplot(df,hue=\"Class\")"
      ],
      "execution_count": null,
      "outputs": []
    },
    {
      "cell_type": "markdown",
      "metadata": {
        "id": "IXsrFSDiK2hb"
      },
      "source": [
        "<img src=\"/content/pairplot.png\">\n"
      ]
    },
    {
      "cell_type": "code",
      "metadata": {
        "id": "WjwozXEveTTq"
      },
      "source": [
        ""
      ],
      "execution_count": null,
      "outputs": []
    },
    {
      "cell_type": "code",
      "metadata": {
        "id": "yBlcwR69eTQ6",
        "colab": {
          "base_uri": "https://localhost:8080/",
          "height": 317
        },
        "outputId": "fe05966d-513b-4477-9145-dadd85e1923f"
      },
      "source": [
        "df.describe()"
      ],
      "execution_count": null,
      "outputs": [
        {
          "output_type": "execute_result",
          "data": {
            "text/html": [
              "<div>\n",
              "<style scoped>\n",
              "    .dataframe tbody tr th:only-of-type {\n",
              "        vertical-align: middle;\n",
              "    }\n",
              "\n",
              "    .dataframe tbody tr th {\n",
              "        vertical-align: top;\n",
              "    }\n",
              "\n",
              "    .dataframe thead th {\n",
              "        text-align: right;\n",
              "    }\n",
              "</style>\n",
              "<table border=\"1\" class=\"dataframe\">\n",
              "  <thead>\n",
              "    <tr style=\"text-align: right;\">\n",
              "      <th></th>\n",
              "      <th>Area</th>\n",
              "      <th>Perimeter</th>\n",
              "      <th>MajorAxisLength</th>\n",
              "      <th>MinorAxisLength</th>\n",
              "      <th>AspectRation</th>\n",
              "      <th>Eccentricity</th>\n",
              "      <th>ConvexArea</th>\n",
              "      <th>EquivDiameter</th>\n",
              "      <th>Extent</th>\n",
              "      <th>Solidity</th>\n",
              "      <th>roundness</th>\n",
              "      <th>Compactness</th>\n",
              "      <th>ShapeFactor1</th>\n",
              "      <th>ShapeFactor2</th>\n",
              "      <th>ShapeFactor3</th>\n",
              "      <th>ShapeFactor4</th>\n",
              "    </tr>\n",
              "  </thead>\n",
              "  <tbody>\n",
              "    <tr>\n",
              "      <th>count</th>\n",
              "      <td>13611.000000</td>\n",
              "      <td>13611.000000</td>\n",
              "      <td>13611.000000</td>\n",
              "      <td>13611.000000</td>\n",
              "      <td>13611.000000</td>\n",
              "      <td>13611.000000</td>\n",
              "      <td>13611.000000</td>\n",
              "      <td>13611.000000</td>\n",
              "      <td>13611.000000</td>\n",
              "      <td>13611.000000</td>\n",
              "      <td>13611.000000</td>\n",
              "      <td>13611.000000</td>\n",
              "      <td>13611.000000</td>\n",
              "      <td>13611.000000</td>\n",
              "      <td>13611.000000</td>\n",
              "      <td>13611.000000</td>\n",
              "    </tr>\n",
              "    <tr>\n",
              "      <th>mean</th>\n",
              "      <td>53048.284549</td>\n",
              "      <td>855.283459</td>\n",
              "      <td>320.141867</td>\n",
              "      <td>202.270714</td>\n",
              "      <td>1.583242</td>\n",
              "      <td>0.750895</td>\n",
              "      <td>53768.200206</td>\n",
              "      <td>253.064220</td>\n",
              "      <td>0.749733</td>\n",
              "      <td>0.987143</td>\n",
              "      <td>0.873282</td>\n",
              "      <td>0.799864</td>\n",
              "      <td>0.006564</td>\n",
              "      <td>0.001716</td>\n",
              "      <td>0.643590</td>\n",
              "      <td>0.995063</td>\n",
              "    </tr>\n",
              "    <tr>\n",
              "      <th>std</th>\n",
              "      <td>29324.095717</td>\n",
              "      <td>214.289696</td>\n",
              "      <td>85.694186</td>\n",
              "      <td>44.970091</td>\n",
              "      <td>0.246678</td>\n",
              "      <td>0.092002</td>\n",
              "      <td>29774.915817</td>\n",
              "      <td>59.177120</td>\n",
              "      <td>0.049086</td>\n",
              "      <td>0.004660</td>\n",
              "      <td>0.059520</td>\n",
              "      <td>0.061713</td>\n",
              "      <td>0.001128</td>\n",
              "      <td>0.000596</td>\n",
              "      <td>0.098996</td>\n",
              "      <td>0.004366</td>\n",
              "    </tr>\n",
              "    <tr>\n",
              "      <th>min</th>\n",
              "      <td>20420.000000</td>\n",
              "      <td>524.736000</td>\n",
              "      <td>183.601165</td>\n",
              "      <td>122.512653</td>\n",
              "      <td>1.024868</td>\n",
              "      <td>0.218951</td>\n",
              "      <td>20684.000000</td>\n",
              "      <td>161.243764</td>\n",
              "      <td>0.555315</td>\n",
              "      <td>0.919246</td>\n",
              "      <td>0.489618</td>\n",
              "      <td>0.640577</td>\n",
              "      <td>0.002778</td>\n",
              "      <td>0.000564</td>\n",
              "      <td>0.410339</td>\n",
              "      <td>0.947687</td>\n",
              "    </tr>\n",
              "    <tr>\n",
              "      <th>25%</th>\n",
              "      <td>36328.000000</td>\n",
              "      <td>703.523500</td>\n",
              "      <td>253.303633</td>\n",
              "      <td>175.848170</td>\n",
              "      <td>1.432307</td>\n",
              "      <td>0.715928</td>\n",
              "      <td>36714.500000</td>\n",
              "      <td>215.068003</td>\n",
              "      <td>0.718634</td>\n",
              "      <td>0.985670</td>\n",
              "      <td>0.832096</td>\n",
              "      <td>0.762469</td>\n",
              "      <td>0.005900</td>\n",
              "      <td>0.001154</td>\n",
              "      <td>0.581359</td>\n",
              "      <td>0.993703</td>\n",
              "    </tr>\n",
              "    <tr>\n",
              "      <th>50%</th>\n",
              "      <td>44652.000000</td>\n",
              "      <td>794.941000</td>\n",
              "      <td>296.883367</td>\n",
              "      <td>192.431733</td>\n",
              "      <td>1.551124</td>\n",
              "      <td>0.764441</td>\n",
              "      <td>45178.000000</td>\n",
              "      <td>238.438026</td>\n",
              "      <td>0.759859</td>\n",
              "      <td>0.988283</td>\n",
              "      <td>0.883157</td>\n",
              "      <td>0.801277</td>\n",
              "      <td>0.006645</td>\n",
              "      <td>0.001694</td>\n",
              "      <td>0.642044</td>\n",
              "      <td>0.996386</td>\n",
              "    </tr>\n",
              "    <tr>\n",
              "      <th>75%</th>\n",
              "      <td>61332.000000</td>\n",
              "      <td>977.213000</td>\n",
              "      <td>376.495012</td>\n",
              "      <td>217.031741</td>\n",
              "      <td>1.707109</td>\n",
              "      <td>0.810466</td>\n",
              "      <td>62294.000000</td>\n",
              "      <td>279.446467</td>\n",
              "      <td>0.786851</td>\n",
              "      <td>0.990013</td>\n",
              "      <td>0.916869</td>\n",
              "      <td>0.834270</td>\n",
              "      <td>0.007271</td>\n",
              "      <td>0.002170</td>\n",
              "      <td>0.696006</td>\n",
              "      <td>0.997883</td>\n",
              "    </tr>\n",
              "    <tr>\n",
              "      <th>max</th>\n",
              "      <td>254616.000000</td>\n",
              "      <td>1985.370000</td>\n",
              "      <td>738.860153</td>\n",
              "      <td>460.198497</td>\n",
              "      <td>2.430306</td>\n",
              "      <td>0.911423</td>\n",
              "      <td>263261.000000</td>\n",
              "      <td>569.374358</td>\n",
              "      <td>0.866195</td>\n",
              "      <td>0.994677</td>\n",
              "      <td>0.990685</td>\n",
              "      <td>0.987303</td>\n",
              "      <td>0.010451</td>\n",
              "      <td>0.003665</td>\n",
              "      <td>0.974767</td>\n",
              "      <td>0.999733</td>\n",
              "    </tr>\n",
              "  </tbody>\n",
              "</table>\n",
              "</div>"
            ],
            "text/plain": [
              "                Area     Perimeter  ...  ShapeFactor3  ShapeFactor4\n",
              "count   13611.000000  13611.000000  ...  13611.000000  13611.000000\n",
              "mean    53048.284549    855.283459  ...      0.643590      0.995063\n",
              "std     29324.095717    214.289696  ...      0.098996      0.004366\n",
              "min     20420.000000    524.736000  ...      0.410339      0.947687\n",
              "25%     36328.000000    703.523500  ...      0.581359      0.993703\n",
              "50%     44652.000000    794.941000  ...      0.642044      0.996386\n",
              "75%     61332.000000    977.213000  ...      0.696006      0.997883\n",
              "max    254616.000000   1985.370000  ...      0.974767      0.999733\n",
              "\n",
              "[8 rows x 16 columns]"
            ]
          },
          "metadata": {
            "tags": []
          },
          "execution_count": 13
        }
      ]
    },
    {
      "cell_type": "markdown",
      "metadata": {
        "id": "gwnfYtSoRFVh"
      },
      "source": [
        "to find the count of examples in each class"
      ]
    },
    {
      "cell_type": "code",
      "metadata": {
        "id": "FbhzhDZTeTLT",
        "colab": {
          "base_uri": "https://localhost:8080/"
        },
        "outputId": "543dfd20-6c94-40ce-a52f-ed8b415a35fc"
      },
      "source": [
        "df['Class'].value_counts()"
      ],
      "execution_count": null,
      "outputs": [
        {
          "output_type": "execute_result",
          "data": {
            "text/plain": [
              "DERMASON    3546\n",
              "SIRA        2636\n",
              "SEKER       2027\n",
              "HOROZ       1928\n",
              "CALI        1630\n",
              "BARBUNYA    1322\n",
              "BOMBAY       522\n",
              "Name: Class, dtype: int64"
            ]
          },
          "metadata": {
            "tags": []
          },
          "execution_count": 15
        }
      ]
    },
    {
      "cell_type": "code",
      "metadata": {
        "id": "YFNl5UbNeTIp",
        "colab": {
          "base_uri": "https://localhost:8080/",
          "height": 279
        },
        "outputId": "d2d6a4ee-4a40-4d6e-fd21-30266ef1ea32"
      },
      "source": [
        "ax = sns.countplot(x='Class',data = df)"
      ],
      "execution_count": null,
      "outputs": [
        {
          "output_type": "display_data",
          "data": {
            "image/png": "[encoded data removed]",
            "text/plain": [
              "<Figure size 432x288 with 1 Axes>"
            ]
          },
          "metadata": {
            "tags": [],
            "needs_background": "light"
          }
        }
      ]
    },
    {
      "cell_type": "markdown",
      "metadata": {
        "id": "P2e8vLFnTWWH"
      },
      "source": [
        "We see that the distribution of the dataset is very uneven.<br>\n",
        "the least is 'BOMBAY' with 522 <br>\n",
        "and the largest count in 'DERMASON' with 3546"
      ]
    },
    {
      "cell_type": "markdown",
      "metadata": {
        "id": "UtGoG3EKtVXe"
      },
      "source": [
        "# Stratified Cross validation"
      ]
    },
    {
      "cell_type": "markdown",
      "metadata": {
        "id": "Y0uQ8fkdM-p7"
      },
      "source": [
        "**we will use stratified cross-validation beacuse we see that our data is skewed. hence for uniform distribution for training we use this method.**"
      ]
    },
    {
      "cell_type": "code",
      "metadata": {
        "id": "IWbaEuZXtzdM"
      },
      "source": [
        "from sklearn.model_selection import StratifiedKFold"
      ],
      "execution_count": null,
      "outputs": []
    },
    {
      "cell_type": "code",
      "metadata": {
        "id": "KdFnnG0hSNnf"
      },
      "source": [
        "df[\"kfold\"] = -1\n",
        "df = df.sample(frac=1).reset_index(drop = True)\n",
        "\n",
        "y = df.Class.values\n",
        "\n",
        "kf = StratifiedKFold(n_splits=7)\n",
        "\n",
        "for f, (t_, v_) in enumerate(kf.split(X = df, y=y)):\n",
        "  df.loc[v_,'kfold'] = f"
      ],
      "execution_count": null,
      "outputs": []
    },
    {
      "cell_type": "code",
      "metadata": {
        "colab": {
          "base_uri": "https://localhost:8080/",
          "height": 379
        },
        "id": "kkkbXHhvuWay",
        "outputId": "0bcd81b2-c512-4d7c-c53c-20a69bfcd80b"
      },
      "source": [
        "df.head(10)"
      ],
      "execution_count": null,
      "outputs": [
        {
          "output_type": "execute_result",
          "data": {
            "text/html": [
              "<div>\n",
              "<style scoped>\n",
              "    .dataframe tbody tr th:only-of-type {\n",
              "        vertical-align: middle;\n",
              "    }\n",
              "\n",
              "    .dataframe tbody tr th {\n",
              "        vertical-align: top;\n",
              "    }\n",
              "\n",
              "    .dataframe thead th {\n",
              "        text-align: right;\n",
              "    }\n",
              "</style>\n",
              "<table border=\"1\" class=\"dataframe\">\n",
              "  <thead>\n",
              "    <tr style=\"text-align: right;\">\n",
              "      <th></th>\n",
              "      <th>Area</th>\n",
              "      <th>Perimeter</th>\n",
              "      <th>MajorAxisLength</th>\n",
              "      <th>MinorAxisLength</th>\n",
              "      <th>AspectRation</th>\n",
              "      <th>Eccentricity</th>\n",
              "      <th>ConvexArea</th>\n",
              "      <th>EquivDiameter</th>\n",
              "      <th>Extent</th>\n",
              "      <th>Solidity</th>\n",
              "      <th>roundness</th>\n",
              "      <th>Compactness</th>\n",
              "      <th>ShapeFactor1</th>\n",
              "      <th>ShapeFactor2</th>\n",
              "      <th>ShapeFactor3</th>\n",
              "      <th>ShapeFactor4</th>\n",
              "      <th>Class</th>\n",
              "      <th>kfold</th>\n",
              "    </tr>\n",
              "  </thead>\n",
              "  <tbody>\n",
              "    <tr>\n",
              "      <th>0</th>\n",
              "      <td>51052</td>\n",
              "      <td>848.581</td>\n",
              "      <td>311.005178</td>\n",
              "      <td>209.539906</td>\n",
              "      <td>1.484229</td>\n",
              "      <td>0.738959</td>\n",
              "      <td>51644</td>\n",
              "      <td>254.953771</td>\n",
              "      <td>0.712718</td>\n",
              "      <td>0.988537</td>\n",
              "      <td>0.890914</td>\n",
              "      <td>0.819773</td>\n",
              "      <td>0.006092</td>\n",
              "      <td>0.001697</td>\n",
              "      <td>0.672028</td>\n",
              "      <td>0.997444</td>\n",
              "      <td>SIRA</td>\n",
              "      <td>0</td>\n",
              "    </tr>\n",
              "    <tr>\n",
              "      <th>1</th>\n",
              "      <td>80050</td>\n",
              "      <td>1078.541</td>\n",
              "      <td>403.006129</td>\n",
              "      <td>253.685414</td>\n",
              "      <td>1.588606</td>\n",
              "      <td>0.777014</td>\n",
              "      <td>80805</td>\n",
              "      <td>319.253544</td>\n",
              "      <td>0.807998</td>\n",
              "      <td>0.990657</td>\n",
              "      <td>0.864765</td>\n",
              "      <td>0.792180</td>\n",
              "      <td>0.005034</td>\n",
              "      <td>0.001223</td>\n",
              "      <td>0.627550</td>\n",
              "      <td>0.996929</td>\n",
              "      <td>BARBUNYA</td>\n",
              "      <td>0</td>\n",
              "    </tr>\n",
              "    <tr>\n",
              "      <th>2</th>\n",
              "      <td>40570</td>\n",
              "      <td>737.047</td>\n",
              "      <td>248.719348</td>\n",
              "      <td>208.315230</td>\n",
              "      <td>1.193957</td>\n",
              "      <td>0.546359</td>\n",
              "      <td>40979</td>\n",
              "      <td>227.278086</td>\n",
              "      <td>0.750685</td>\n",
              "      <td>0.990019</td>\n",
              "      <td>0.938479</td>\n",
              "      <td>0.913793</td>\n",
              "      <td>0.006131</td>\n",
              "      <td>0.002637</td>\n",
              "      <td>0.835018</td>\n",
              "      <td>0.996976</td>\n",
              "      <td>SEKER</td>\n",
              "      <td>0</td>\n",
              "    </tr>\n",
              "    <tr>\n",
              "      <th>3</th>\n",
              "      <td>38147</td>\n",
              "      <td>727.240</td>\n",
              "      <td>265.557172</td>\n",
              "      <td>183.432597</td>\n",
              "      <td>1.447710</td>\n",
              "      <td>0.723097</td>\n",
              "      <td>38558</td>\n",
              "      <td>220.386635</td>\n",
              "      <td>0.718751</td>\n",
              "      <td>0.989341</td>\n",
              "      <td>0.906389</td>\n",
              "      <td>0.829903</td>\n",
              "      <td>0.006961</td>\n",
              "      <td>0.002037</td>\n",
              "      <td>0.688739</td>\n",
              "      <td>0.997094</td>\n",
              "      <td>SIRA</td>\n",
              "      <td>0</td>\n",
              "    </tr>\n",
              "    <tr>\n",
              "      <th>4</th>\n",
              "      <td>71194</td>\n",
              "      <td>1045.404</td>\n",
              "      <td>402.703822</td>\n",
              "      <td>228.822875</td>\n",
              "      <td>1.759893</td>\n",
              "      <td>0.822879</td>\n",
              "      <td>72636</td>\n",
              "      <td>301.076429</td>\n",
              "      <td>0.808729</td>\n",
              "      <td>0.980148</td>\n",
              "      <td>0.818625</td>\n",
              "      <td>0.747637</td>\n",
              "      <td>0.005656</td>\n",
              "      <td>0.001090</td>\n",
              "      <td>0.558962</td>\n",
              "      <td>0.983713</td>\n",
              "      <td>CALI</td>\n",
              "      <td>0</td>\n",
              "    </tr>\n",
              "    <tr>\n",
              "      <th>5</th>\n",
              "      <td>49207</td>\n",
              "      <td>848.510</td>\n",
              "      <td>334.321971</td>\n",
              "      <td>188.083857</td>\n",
              "      <td>1.777515</td>\n",
              "      <td>0.826741</td>\n",
              "      <td>49790</td>\n",
              "      <td>250.304411</td>\n",
              "      <td>0.780036</td>\n",
              "      <td>0.988291</td>\n",
              "      <td>0.858861</td>\n",
              "      <td>0.748693</td>\n",
              "      <td>0.006794</td>\n",
              "      <td>0.001317</td>\n",
              "      <td>0.560541</td>\n",
              "      <td>0.996370</td>\n",
              "      <td>SIRA</td>\n",
              "      <td>0</td>\n",
              "    </tr>\n",
              "    <tr>\n",
              "      <th>6</th>\n",
              "      <td>54082</td>\n",
              "      <td>914.723</td>\n",
              "      <td>375.883942</td>\n",
              "      <td>185.422855</td>\n",
              "      <td>2.027172</td>\n",
              "      <td>0.869860</td>\n",
              "      <td>54939</td>\n",
              "      <td>262.410634</td>\n",
              "      <td>0.720248</td>\n",
              "      <td>0.984401</td>\n",
              "      <td>0.812238</td>\n",
              "      <td>0.698116</td>\n",
              "      <td>0.006950</td>\n",
              "      <td>0.001018</td>\n",
              "      <td>0.487366</td>\n",
              "      <td>0.987975</td>\n",
              "      <td>HOROZ</td>\n",
              "      <td>0</td>\n",
              "    </tr>\n",
              "    <tr>\n",
              "      <th>7</th>\n",
              "      <td>76890</td>\n",
              "      <td>1076.649</td>\n",
              "      <td>416.749392</td>\n",
              "      <td>237.324692</td>\n",
              "      <td>1.756030</td>\n",
              "      <td>0.822015</td>\n",
              "      <td>78603</td>\n",
              "      <td>312.888780</td>\n",
              "      <td>0.792337</td>\n",
              "      <td>0.978207</td>\n",
              "      <td>0.833550</td>\n",
              "      <td>0.750784</td>\n",
              "      <td>0.005420</td>\n",
              "      <td>0.001062</td>\n",
              "      <td>0.563677</td>\n",
              "      <td>0.989833</td>\n",
              "      <td>CALI</td>\n",
              "      <td>0</td>\n",
              "    </tr>\n",
              "    <tr>\n",
              "      <th>8</th>\n",
              "      <td>32794</td>\n",
              "      <td>665.443</td>\n",
              "      <td>245.877490</td>\n",
              "      <td>170.296869</td>\n",
              "      <td>1.443817</td>\n",
              "      <td>0.721314</td>\n",
              "      <td>33131</td>\n",
              "      <td>204.339467</td>\n",
              "      <td>0.787844</td>\n",
              "      <td>0.989828</td>\n",
              "      <td>0.930642</td>\n",
              "      <td>0.831062</td>\n",
              "      <td>0.007498</td>\n",
              "      <td>0.002206</td>\n",
              "      <td>0.690664</td>\n",
              "      <td>0.997193</td>\n",
              "      <td>DERMASON</td>\n",
              "      <td>0</td>\n",
              "    </tr>\n",
              "    <tr>\n",
              "      <th>9</th>\n",
              "      <td>39170</td>\n",
              "      <td>748.606</td>\n",
              "      <td>290.257632</td>\n",
              "      <td>172.183043</td>\n",
              "      <td>1.685750</td>\n",
              "      <td>0.805050</td>\n",
              "      <td>39644</td>\n",
              "      <td>223.322173</td>\n",
              "      <td>0.806565</td>\n",
              "      <td>0.988044</td>\n",
              "      <td>0.878328</td>\n",
              "      <td>0.769393</td>\n",
              "      <td>0.007410</td>\n",
              "      <td>0.001602</td>\n",
              "      <td>0.591965</td>\n",
              "      <td>0.997906</td>\n",
              "      <td>DERMASON</td>\n",
              "      <td>0</td>\n",
              "    </tr>\n",
              "  </tbody>\n",
              "</table>\n",
              "</div>"
            ],
            "text/plain": [
              "    Area  Perimeter  MajorAxisLength  ...  ShapeFactor4     Class  kfold\n",
              "0  51052    848.581       311.005178  ...      0.997444      SIRA      0\n",
              "1  80050   1078.541       403.006129  ...      0.996929  BARBUNYA      0\n",
              "2  40570    737.047       248.719348  ...      0.996976     SEKER      0\n",
              "3  38147    727.240       265.557172  ...      0.997094      SIRA      0\n",
              "4  71194   1045.404       402.703822  ...      0.983713      CALI      0\n",
              "5  49207    848.510       334.321971  ...      0.996370      SIRA      0\n",
              "6  54082    914.723       375.883942  ...      0.987975     HOROZ      0\n",
              "7  76890   1076.649       416.749392  ...      0.989833      CALI      0\n",
              "8  32794    665.443       245.877490  ...      0.997193  DERMASON      0\n",
              "9  39170    748.606       290.257632  ...      0.997906  DERMASON      0\n",
              "\n",
              "[10 rows x 18 columns]"
            ]
          },
          "metadata": {
            "tags": []
          },
          "execution_count": 47
        }
      ]
    },
    {
      "cell_type": "code",
      "metadata": {
        "colab": {
          "base_uri": "https://localhost:8080/"
        },
        "id": "DZpK0s2tuXtV",
        "outputId": "a6e5a982-84ca-4f80-8d81-651991a395b0"
      },
      "source": [
        "df.kfold.value_counts()"
      ],
      "execution_count": null,
      "outputs": [
        {
          "output_type": "execute_result",
          "data": {
            "text/plain": [
              "2    1945\n",
              "1    1945\n",
              "0    1945\n",
              "6    1944\n",
              "5    1944\n",
              "4    1944\n",
              "3    1944\n",
              "Name: kfold, dtype: int64"
            ]
          },
          "metadata": {
            "tags": []
          },
          "execution_count": 20
        }
      ]
    },
    {
      "cell_type": "code",
      "metadata": {
        "colab": {
          "base_uri": "https://localhost:8080/",
          "height": 279
        },
        "id": "G1tT3f_xvrPT",
        "outputId": "cda39f16-0130-4f51-a799-0b94ab1dd75e"
      },
      "source": [
        "k = sns.countplot(x='kfold',data = df)"
      ],
      "execution_count": null,
      "outputs": [
        {
          "output_type": "display_data",
          "data": {
            "image/png": "[encoded data removed]",
            "text/plain": [
              "<Figure size 432x288 with 1 Axes>"
            ]
          },
          "metadata": {
            "tags": [],
            "needs_background": "light"
          }
        }
      ]
    },
    {
      "cell_type": "code",
      "metadata": {
        "colab": {
          "base_uri": "https://localhost:8080/"
        },
        "id": "pmMO1HzGucnL",
        "outputId": "1d9e5d9b-913c-42dd-c611-d4aed1524abc"
      },
      "source": [
        "for i in range(7):\n",
        "  print(df[df.kfold==i].Class.value_counts())\n",
        "  \n",
        "  print('\\n')"
      ],
      "execution_count": null,
      "outputs": [
        {
          "output_type": "stream",
          "text": [
            "DERMASON    506\n",
            "SIRA        377\n",
            "SEKER       289\n",
            "HOROZ       276\n",
            "CALI        233\n",
            "BARBUNYA    189\n",
            "BOMBAY       75\n",
            "Name: Class, dtype: int64\n",
            "\n",
            "\n",
            "DERMASON    506\n",
            "SIRA        377\n",
            "SEKER       289\n",
            "HOROZ       276\n",
            "CALI        233\n",
            "BARBUNYA    189\n",
            "BOMBAY       75\n",
            "Name: Class, dtype: int64\n",
            "\n",
            "\n",
            "DERMASON    507\n",
            "SIRA        377\n",
            "SEKER       289\n",
            "HOROZ       275\n",
            "CALI        233\n",
            "BARBUNYA    189\n",
            "BOMBAY       75\n",
            "Name: Class, dtype: int64\n",
            "\n",
            "\n",
            "DERMASON    507\n",
            "SIRA        377\n",
            "SEKER       290\n",
            "HOROZ       275\n",
            "CALI        233\n",
            "BARBUNYA    188\n",
            "BOMBAY       74\n",
            "Name: Class, dtype: int64\n",
            "\n",
            "\n",
            "DERMASON    507\n",
            "SIRA        376\n",
            "SEKER       290\n",
            "HOROZ       275\n",
            "CALI        233\n",
            "BARBUNYA    189\n",
            "BOMBAY       74\n",
            "Name: Class, dtype: int64\n",
            "\n",
            "\n",
            "DERMASON    507\n",
            "SIRA        376\n",
            "SEKER       290\n",
            "HOROZ       275\n",
            "CALI        233\n",
            "BARBUNYA    189\n",
            "BOMBAY       74\n",
            "Name: Class, dtype: int64\n",
            "\n",
            "\n",
            "DERMASON    506\n",
            "SIRA        376\n",
            "SEKER       290\n",
            "HOROZ       276\n",
            "CALI        232\n",
            "BARBUNYA    189\n",
            "BOMBAY       75\n",
            "Name: Class, dtype: int64\n",
            "\n",
            "\n"
          ],
          "name": "stdout"
        }
      ]
    },
    {
      "cell_type": "markdown",
      "metadata": {
        "id": "BPo2PKuqvXiB"
      },
      "source": [
        "we see that in each fold the distribution of targets is the same. This will make our data more uniform for better training."
      ]
    },
    {
      "cell_type": "markdown",
      "metadata": {
        "id": "1K7R3ED_T3zk"
      },
      "source": [
        "## Feature Selection"
      ]
    },
    {
      "cell_type": "code",
      "metadata": {
        "colab": {
          "base_uri": "https://localhost:8080/"
        },
        "id": "_JCoSJMkmv8q",
        "outputId": "fa482f61-9155-492c-eadc-3fd5f0ade8f5"
      },
      "source": [
        "all_features = df.columns[:-2]\n",
        "all_features"
      ],
      "execution_count": null,
      "outputs": [
        {
          "output_type": "execute_result",
          "data": {
            "text/plain": [
              "Index(['Area', 'Perimeter', 'MajorAxisLength', 'MinorAxisLength',\n",
              "       'AspectRation', 'Eccentricity', 'ConvexArea', 'EquivDiameter', 'Extent',\n",
              "       'Solidity', 'roundness', 'Compactness', 'ShapeFactor1', 'ShapeFactor2',\n",
              "       'ShapeFactor3', 'ShapeFactor4'],\n",
              "      dtype='object')"
            ]
          },
          "metadata": {
            "tags": []
          },
          "execution_count": 49
        }
      ]
    },
    {
      "cell_type": "markdown",
      "metadata": {
        "id": "9HeK00JZeKO1"
      },
      "source": [
        "1. checking out how correlated our data looks."
      ]
    },
    {
      "cell_type": "code",
      "metadata": {
        "colab": {
          "base_uri": "https://localhost:8080/",
          "height": 596
        },
        "id": "yz3BAAewONAm",
        "outputId": "8f2771ef-bde0-411e-fa26-47455772b392"
      },
      "source": [
        "df.corr()"
      ],
      "execution_count": null,
      "outputs": [
        {
          "output_type": "execute_result",
          "data": {
            "text/html": [
              "<div>\n",
              "<style scoped>\n",
              "    .dataframe tbody tr th:only-of-type {\n",
              "        vertical-align: middle;\n",
              "    }\n",
              "\n",
              "    .dataframe tbody tr th {\n",
              "        vertical-align: top;\n",
              "    }\n",
              "\n",
              "    .dataframe thead th {\n",
              "        text-align: right;\n",
              "    }\n",
              "</style>\n",
              "<table border=\"1\" class=\"dataframe\">\n",
              "  <thead>\n",
              "    <tr style=\"text-align: right;\">\n",
              "      <th></th>\n",
              "      <th>Area</th>\n",
              "      <th>Perimeter</th>\n",
              "      <th>MajorAxisLength</th>\n",
              "      <th>MinorAxisLength</th>\n",
              "      <th>AspectRation</th>\n",
              "      <th>Eccentricity</th>\n",
              "      <th>ConvexArea</th>\n",
              "      <th>EquivDiameter</th>\n",
              "      <th>Extent</th>\n",
              "      <th>Solidity</th>\n",
              "      <th>roundness</th>\n",
              "      <th>Compactness</th>\n",
              "      <th>ShapeFactor1</th>\n",
              "      <th>ShapeFactor2</th>\n",
              "      <th>ShapeFactor3</th>\n",
              "      <th>ShapeFactor4</th>\n",
              "      <th>kfold</th>\n",
              "    </tr>\n",
              "  </thead>\n",
              "  <tbody>\n",
              "    <tr>\n",
              "      <th>Area</th>\n",
              "      <td>1.000000</td>\n",
              "      <td>0.966722</td>\n",
              "      <td>0.931834</td>\n",
              "      <td>0.951602</td>\n",
              "      <td>0.241735</td>\n",
              "      <td>0.267481</td>\n",
              "      <td>0.999939</td>\n",
              "      <td>0.984968</td>\n",
              "      <td>0.054345</td>\n",
              "      <td>-0.196585</td>\n",
              "      <td>-0.357530</td>\n",
              "      <td>-0.268067</td>\n",
              "      <td>-0.847958</td>\n",
              "      <td>-0.639291</td>\n",
              "      <td>-0.272145</td>\n",
              "      <td>-0.355721</td>\n",
              "      <td>-0.002125</td>\n",
              "    </tr>\n",
              "    <tr>\n",
              "      <th>Perimeter</th>\n",
              "      <td>0.966722</td>\n",
              "      <td>1.000000</td>\n",
              "      <td>0.977338</td>\n",
              "      <td>0.913179</td>\n",
              "      <td>0.385276</td>\n",
              "      <td>0.391066</td>\n",
              "      <td>0.967689</td>\n",
              "      <td>0.991380</td>\n",
              "      <td>-0.021160</td>\n",
              "      <td>-0.303970</td>\n",
              "      <td>-0.547647</td>\n",
              "      <td>-0.406857</td>\n",
              "      <td>-0.864623</td>\n",
              "      <td>-0.767592</td>\n",
              "      <td>-0.408435</td>\n",
              "      <td>-0.429310</td>\n",
              "      <td>-0.002203</td>\n",
              "    </tr>\n",
              "    <tr>\n",
              "      <th>MajorAxisLength</th>\n",
              "      <td>0.931834</td>\n",
              "      <td>0.977338</td>\n",
              "      <td>1.000000</td>\n",
              "      <td>0.826052</td>\n",
              "      <td>0.550335</td>\n",
              "      <td>0.541972</td>\n",
              "      <td>0.932607</td>\n",
              "      <td>0.961733</td>\n",
              "      <td>-0.078062</td>\n",
              "      <td>-0.284302</td>\n",
              "      <td>-0.596358</td>\n",
              "      <td>-0.568377</td>\n",
              "      <td>-0.773609</td>\n",
              "      <td>-0.859238</td>\n",
              "      <td>-0.568185</td>\n",
              "      <td>-0.482527</td>\n",
              "      <td>-0.002741</td>\n",
              "    </tr>\n",
              "    <tr>\n",
              "      <th>MinorAxisLength</th>\n",
              "      <td>0.951602</td>\n",
              "      <td>0.913179</td>\n",
              "      <td>0.826052</td>\n",
              "      <td>1.000000</td>\n",
              "      <td>-0.009161</td>\n",
              "      <td>0.019574</td>\n",
              "      <td>0.951339</td>\n",
              "      <td>0.948539</td>\n",
              "      <td>0.145957</td>\n",
              "      <td>-0.155831</td>\n",
              "      <td>-0.210344</td>\n",
              "      <td>-0.015066</td>\n",
              "      <td>-0.947204</td>\n",
              "      <td>-0.471347</td>\n",
              "      <td>-0.019326</td>\n",
              "      <td>-0.263749</td>\n",
              "      <td>-0.000737</td>\n",
              "    </tr>\n",
              "    <tr>\n",
              "      <th>AspectRation</th>\n",
              "      <td>0.241735</td>\n",
              "      <td>0.385276</td>\n",
              "      <td>0.550335</td>\n",
              "      <td>-0.009161</td>\n",
              "      <td>1.000000</td>\n",
              "      <td>0.924293</td>\n",
              "      <td>0.243301</td>\n",
              "      <td>0.303647</td>\n",
              "      <td>-0.370184</td>\n",
              "      <td>-0.267754</td>\n",
              "      <td>-0.766979</td>\n",
              "      <td>-0.987687</td>\n",
              "      <td>0.024593</td>\n",
              "      <td>-0.837841</td>\n",
              "      <td>-0.978592</td>\n",
              "      <td>-0.449264</td>\n",
              "      <td>-0.002759</td>\n",
              "    </tr>\n",
              "    <tr>\n",
              "      <th>Eccentricity</th>\n",
              "      <td>0.267481</td>\n",
              "      <td>0.391066</td>\n",
              "      <td>0.541972</td>\n",
              "      <td>0.019574</td>\n",
              "      <td>0.924293</td>\n",
              "      <td>1.000000</td>\n",
              "      <td>0.269255</td>\n",
              "      <td>0.318667</td>\n",
              "      <td>-0.319362</td>\n",
              "      <td>-0.297592</td>\n",
              "      <td>-0.722272</td>\n",
              "      <td>-0.970313</td>\n",
              "      <td>0.019920</td>\n",
              "      <td>-0.860141</td>\n",
              "      <td>-0.981058</td>\n",
              "      <td>-0.449354</td>\n",
              "      <td>-0.002172</td>\n",
              "    </tr>\n",
              "    <tr>\n",
              "      <th>ConvexArea</th>\n",
              "      <td>0.999939</td>\n",
              "      <td>0.967689</td>\n",
              "      <td>0.932607</td>\n",
              "      <td>0.951339</td>\n",
              "      <td>0.243301</td>\n",
              "      <td>0.269255</td>\n",
              "      <td>1.000000</td>\n",
              "      <td>0.985226</td>\n",
              "      <td>0.052564</td>\n",
              "      <td>-0.206191</td>\n",
              "      <td>-0.362083</td>\n",
              "      <td>-0.269922</td>\n",
              "      <td>-0.847950</td>\n",
              "      <td>-0.640862</td>\n",
              "      <td>-0.274024</td>\n",
              "      <td>-0.362049</td>\n",
              "      <td>-0.002221</td>\n",
              "    </tr>\n",
              "    <tr>\n",
              "      <th>EquivDiameter</th>\n",
              "      <td>0.984968</td>\n",
              "      <td>0.991380</td>\n",
              "      <td>0.961733</td>\n",
              "      <td>0.948539</td>\n",
              "      <td>0.303647</td>\n",
              "      <td>0.318667</td>\n",
              "      <td>0.985226</td>\n",
              "      <td>1.000000</td>\n",
              "      <td>0.028383</td>\n",
              "      <td>-0.231648</td>\n",
              "      <td>-0.435945</td>\n",
              "      <td>-0.327650</td>\n",
              "      <td>-0.892741</td>\n",
              "      <td>-0.713069</td>\n",
              "      <td>-0.330389</td>\n",
              "      <td>-0.392512</td>\n",
              "      <td>-0.001801</td>\n",
              "    </tr>\n",
              "    <tr>\n",
              "      <th>Extent</th>\n",
              "      <td>0.054345</td>\n",
              "      <td>-0.021160</td>\n",
              "      <td>-0.078062</td>\n",
              "      <td>0.145957</td>\n",
              "      <td>-0.370184</td>\n",
              "      <td>-0.319362</td>\n",
              "      <td>0.052564</td>\n",
              "      <td>0.028383</td>\n",
              "      <td>1.000000</td>\n",
              "      <td>0.191389</td>\n",
              "      <td>0.344411</td>\n",
              "      <td>0.354212</td>\n",
              "      <td>-0.141616</td>\n",
              "      <td>0.237956</td>\n",
              "      <td>0.347624</td>\n",
              "      <td>0.148502</td>\n",
              "      <td>-0.001999</td>\n",
              "    </tr>\n",
              "    <tr>\n",
              "      <th>Solidity</th>\n",
              "      <td>-0.196585</td>\n",
              "      <td>-0.303970</td>\n",
              "      <td>-0.284302</td>\n",
              "      <td>-0.155831</td>\n",
              "      <td>-0.267754</td>\n",
              "      <td>-0.297592</td>\n",
              "      <td>-0.206191</td>\n",
              "      <td>-0.231648</td>\n",
              "      <td>0.191389</td>\n",
              "      <td>1.000000</td>\n",
              "      <td>0.607150</td>\n",
              "      <td>0.303766</td>\n",
              "      <td>0.153388</td>\n",
              "      <td>0.343559</td>\n",
              "      <td>0.307662</td>\n",
              "      <td>0.702163</td>\n",
              "      <td>0.011128</td>\n",
              "    </tr>\n",
              "    <tr>\n",
              "      <th>roundness</th>\n",
              "      <td>-0.357530</td>\n",
              "      <td>-0.547647</td>\n",
              "      <td>-0.596358</td>\n",
              "      <td>-0.210344</td>\n",
              "      <td>-0.766979</td>\n",
              "      <td>-0.722272</td>\n",
              "      <td>-0.362083</td>\n",
              "      <td>-0.435945</td>\n",
              "      <td>0.344411</td>\n",
              "      <td>0.607150</td>\n",
              "      <td>1.000000</td>\n",
              "      <td>0.768086</td>\n",
              "      <td>0.230273</td>\n",
              "      <td>0.782824</td>\n",
              "      <td>0.763126</td>\n",
              "      <td>0.472149</td>\n",
              "      <td>0.002440</td>\n",
              "    </tr>\n",
              "    <tr>\n",
              "      <th>Compactness</th>\n",
              "      <td>-0.268067</td>\n",
              "      <td>-0.406857</td>\n",
              "      <td>-0.568377</td>\n",
              "      <td>-0.015066</td>\n",
              "      <td>-0.987687</td>\n",
              "      <td>-0.970313</td>\n",
              "      <td>-0.269922</td>\n",
              "      <td>-0.327650</td>\n",
              "      <td>0.354212</td>\n",
              "      <td>0.303766</td>\n",
              "      <td>0.768086</td>\n",
              "      <td>1.000000</td>\n",
              "      <td>-0.009394</td>\n",
              "      <td>0.868939</td>\n",
              "      <td>0.998686</td>\n",
              "      <td>0.484436</td>\n",
              "      <td>0.003187</td>\n",
              "    </tr>\n",
              "    <tr>\n",
              "      <th>ShapeFactor1</th>\n",
              "      <td>-0.847958</td>\n",
              "      <td>-0.864623</td>\n",
              "      <td>-0.773609</td>\n",
              "      <td>-0.947204</td>\n",
              "      <td>0.024593</td>\n",
              "      <td>0.019920</td>\n",
              "      <td>-0.847950</td>\n",
              "      <td>-0.892741</td>\n",
              "      <td>-0.141616</td>\n",
              "      <td>0.153388</td>\n",
              "      <td>0.230273</td>\n",
              "      <td>-0.009394</td>\n",
              "      <td>1.000000</td>\n",
              "      <td>0.469197</td>\n",
              "      <td>-0.008320</td>\n",
              "      <td>0.248619</td>\n",
              "      <td>-0.000766</td>\n",
              "    </tr>\n",
              "    <tr>\n",
              "      <th>ShapeFactor2</th>\n",
              "      <td>-0.639291</td>\n",
              "      <td>-0.767592</td>\n",
              "      <td>-0.859238</td>\n",
              "      <td>-0.471347</td>\n",
              "      <td>-0.837841</td>\n",
              "      <td>-0.860141</td>\n",
              "      <td>-0.640862</td>\n",
              "      <td>-0.713069</td>\n",
              "      <td>0.237956</td>\n",
              "      <td>0.343559</td>\n",
              "      <td>0.782824</td>\n",
              "      <td>0.868939</td>\n",
              "      <td>0.469197</td>\n",
              "      <td>1.000000</td>\n",
              "      <td>0.872971</td>\n",
              "      <td>0.529932</td>\n",
              "      <td>0.002063</td>\n",
              "    </tr>\n",
              "    <tr>\n",
              "      <th>ShapeFactor3</th>\n",
              "      <td>-0.272145</td>\n",
              "      <td>-0.408435</td>\n",
              "      <td>-0.568185</td>\n",
              "      <td>-0.019326</td>\n",
              "      <td>-0.978592</td>\n",
              "      <td>-0.981058</td>\n",
              "      <td>-0.274024</td>\n",
              "      <td>-0.330389</td>\n",
              "      <td>0.347624</td>\n",
              "      <td>0.307662</td>\n",
              "      <td>0.763126</td>\n",
              "      <td>0.998686</td>\n",
              "      <td>-0.008320</td>\n",
              "      <td>0.872971</td>\n",
              "      <td>1.000000</td>\n",
              "      <td>0.484274</td>\n",
              "      <td>0.003142</td>\n",
              "    </tr>\n",
              "    <tr>\n",
              "      <th>ShapeFactor4</th>\n",
              "      <td>-0.355721</td>\n",
              "      <td>-0.429310</td>\n",
              "      <td>-0.482527</td>\n",
              "      <td>-0.263749</td>\n",
              "      <td>-0.449264</td>\n",
              "      <td>-0.449354</td>\n",
              "      <td>-0.362049</td>\n",
              "      <td>-0.392512</td>\n",
              "      <td>0.148502</td>\n",
              "      <td>0.702163</td>\n",
              "      <td>0.472149</td>\n",
              "      <td>0.484436</td>\n",
              "      <td>0.248619</td>\n",
              "      <td>0.529932</td>\n",
              "      <td>0.484274</td>\n",
              "      <td>1.000000</td>\n",
              "      <td>0.009482</td>\n",
              "    </tr>\n",
              "    <tr>\n",
              "      <th>kfold</th>\n",
              "      <td>-0.002125</td>\n",
              "      <td>-0.002203</td>\n",
              "      <td>-0.002741</td>\n",
              "      <td>-0.000737</td>\n",
              "      <td>-0.002759</td>\n",
              "      <td>-0.002172</td>\n",
              "      <td>-0.002221</td>\n",
              "      <td>-0.001801</td>\n",
              "      <td>-0.001999</td>\n",
              "      <td>0.011128</td>\n",
              "      <td>0.002440</td>\n",
              "      <td>0.003187</td>\n",
              "      <td>-0.000766</td>\n",
              "      <td>0.002063</td>\n",
              "      <td>0.003142</td>\n",
              "      <td>0.009482</td>\n",
              "      <td>1.000000</td>\n",
              "    </tr>\n",
              "  </tbody>\n",
              "</table>\n",
              "</div>"
            ],
            "text/plain": [
              "                     Area  Perimeter  ...  ShapeFactor4     kfold\n",
              "Area             1.000000   0.966722  ...     -0.355721 -0.002125\n",
              "Perimeter        0.966722   1.000000  ...     -0.429310 -0.002203\n",
              "MajorAxisLength  0.931834   0.977338  ...     -0.482527 -0.002741\n",
              "MinorAxisLength  0.951602   0.913179  ...     -0.263749 -0.000737\n",
              "AspectRation     0.241735   0.385276  ...     -0.449264 -0.002759\n",
              "Eccentricity     0.267481   0.391066  ...     -0.449354 -0.002172\n",
              "ConvexArea       0.999939   0.967689  ...     -0.362049 -0.002221\n",
              "EquivDiameter    0.984968   0.991380  ...     -0.392512 -0.001801\n",
              "Extent           0.054345  -0.021160  ...      0.148502 -0.001999\n",
              "Solidity        -0.196585  -0.303970  ...      0.702163  0.011128\n",
              "roundness       -0.357530  -0.547647  ...      0.472149  0.002440\n",
              "Compactness     -0.268067  -0.406857  ...      0.484436  0.003187\n",
              "ShapeFactor1    -0.847958  -0.864623  ...      0.248619 -0.000766\n",
              "ShapeFactor2    -0.639291  -0.767592  ...      0.529932  0.002063\n",
              "ShapeFactor3    -0.272145  -0.408435  ...      0.484274  0.003142\n",
              "ShapeFactor4    -0.355721  -0.429310  ...      1.000000  0.009482\n",
              "kfold           -0.002125  -0.002203  ...      0.009482  1.000000\n",
              "\n",
              "[17 rows x 17 columns]"
            ]
          },
          "metadata": {
            "tags": []
          },
          "execution_count": 30
        }
      ]
    },
    {
      "cell_type": "code",
      "metadata": {
        "id": "V6iiybTjl5hN"
      },
      "source": [
        "correlation_matrix = df.corr()"
      ],
      "execution_count": null,
      "outputs": []
    },
    {
      "cell_type": "code",
      "metadata": {
        "colab": {
          "base_uri": "https://localhost:8080/",
          "height": 451
        },
        "id": "HLgEZryfeQdx",
        "outputId": "beaaa87b-549d-42e6-c093-b1150be07073"
      },
      "source": [
        "plt.figure(figsize=(16, 6))\n",
        "heatmap = sns.heatmap(df.corr(), vmin=-1, vmax=1, annot=True)\n"
      ],
      "execution_count": null,
      "outputs": [
        {
          "output_type": "display_data",
          "data": {
            "image/png": "[encoded data removed]",
            "text/plain": [
              "<Figure size 1152x432 with 2 Axes>"
            ]
          },
          "metadata": {
            "tags": [],
            "needs_background": "light"
          }
        }
      ]
    },
    {
      "cell_type": "code",
      "metadata": {
        "colab": {
          "base_uri": "https://localhost:8080/"
        },
        "id": "kB81dRRUl1Ge",
        "outputId": "a4eba968-a386-4b31-dfb4-d17997bfa6c5"
      },
      "source": [
        "correlated_features = set()\n",
        "\n",
        "for i in range(len(correlation_matrix .columns)):\n",
        "    for j in range(i):\n",
        "        if abs(correlation_matrix.iloc[i, j]) > 0.95:\n",
        "            colname = correlation_matrix.columns[i]\n",
        "            correlated_features.add(colname)\n",
        "\n",
        "\n",
        "print(correlated_features)\n"
      ],
      "execution_count": null,
      "outputs": [
        {
          "output_type": "stream",
          "text": [
            "ShapeFactor3\n",
            "{'Perimeter', 'ShapeFactor3', 'MinorAxisLength', 'EquivDiameter', 'MajorAxisLength', 'Compactness', 'ConvexArea'}\n"
          ],
          "name": "stdout"
        }
      ]
    },
    {
      "cell_type": "markdown",
      "metadata": {
        "id": "nlyey6hcf-yk"
      },
      "source": [
        "observations: we notice that many features are highly correlated with each other. <br>\n",
        "<li> Area and Perimeter\n",
        "<li> Area and MajorAxisLength\n",
        "<li> Area and MinorAxisLength\n",
        "<li> Area and ConvexArea\n",
        "<li> Area and equivDiameter\n",
        "<li> Perimeter and MajorAxisLength\n",
        "<li> Perimeter and equivDiameter\n",
        "<li> Perimeter and ConvexArea<br>\n",
        "and so on.....<br>\n",
        "Hence we will remove few fetures using **greedy method**\n"
      ]
    },
    {
      "cell_type": "code",
      "metadata": {
        "id": "5wdmpRO3fBHG"
      },
      "source": [
        "from mlxtend.feature_selection import SequentialFeatureSelector\n",
        "from sklearn.ensemble import RandomForestClassifier\n",
        "\n",
        "\n",
        "def feature_selection_(X,y):\n",
        "  #returns best feature based on the model performance of RandomForest\n",
        "\n",
        "  good_features=[]\n",
        "  best_scores=[]\n",
        "\n",
        "  num_features = X.shape[1]\n",
        "\n",
        "  while True:\n",
        "    best_score = 0\n",
        "    this_feature = None\n",
        "\n",
        "    for feature in range(num_features):\n",
        "      if feature in good_features:\n",
        "        continue # if features already in good features list then we continue\n",
        "      \n",
        "      selected_features = good_features + [feature]\n",
        "\n",
        "      xtrain = X[:,selected_features]\n",
        "\n",
        "      model = RandomForestClassifier()\n",
        "      model.fit(xtrain, y)\n",
        "      predictions = model.predict_proba(xtrain)[:,1]\n",
        "      score = metrics.roc_auc_score(y,predictions, multi_class=\"ovr\")\n",
        "\n",
        "      #if score> best score then change best score and good_features\n",
        "      if score> best_score:\n",
        "        this_feature = feature\n",
        "        best_score = score\n",
        "      \n",
        "      if this_feature != None:\n",
        "        good_features.append(this_feature)\n",
        "        best_scores.append(best_score)\n",
        "      \n",
        "      #if the scores are not improving from previous round, then we exit the loop\n",
        "\n",
        "      if len(best_scores)>2:\n",
        "        if best_scores[-1] < best_scores[-2]:\n",
        "          break\n",
        "      \n",
        "      # we will use this function in the main function.\n",
        "      return good_features[:-1]\n",
        "\n"
      ],
      "execution_count": null,
      "outputs": []
    },
    {
      "cell_type": "markdown",
      "metadata": {
        "id": "qOP10lNj6sm1"
      },
      "source": [
        "## Training, modelling and Validating"
      ]
    },
    {
      "cell_type": "code",
      "metadata": {
        "id": "gjQM91YdorN0"
      },
      "source": [
        "from sklearn import preprocessing"
      ],
      "execution_count": null,
      "outputs": []
    },
    {
      "cell_type": "code",
      "metadata": {
        "id": "G_5FioX36xT0"
      },
      "source": [
        "def run(df, fold, model):\n",
        "\n",
        "  features = df.columns[:-2]\n",
        "  #features = feature_selection_(df.iloc[:,:-2].values,df.Class)\n",
        "\n",
        "  \"\"\"getting train and validation data. keeping the fold value in validation set \n",
        "  and remaining in training set\"\"\"\n",
        "  df_train = df[df.kfold != fold].reset_index(drop = True)\n",
        "  df_valid = df[df.kfold == fold].reset_index(drop = True)\n",
        "\n",
        "  \"\"\" training data\"\"\"\n",
        "  X_train = df_train[features]\n",
        "  X_valid = df_valid[features]\n",
        "\n",
        "  \"\"\" target class\"\"\"\n",
        "  y_train = df_train.Class.values\n",
        "  y_test = df_valid.Class.values\n",
        "\n",
        "  \"\"\"model fitting\"\"\"\n",
        "  model.fit(X_train, y_train)\n",
        "\n",
        "  \"\"\" predicting values using trained model\"\"\"\n",
        "  y_pred = model.predict_proba(X_valid)[:,1]\n",
        "\n",
        "  \"\"\"calculating auc score for classification problem\"\"\"\n",
        "  auc = metrics.roc_auc_score(y_test, y_pred, multi_class= 'ovr')\n",
        "\n",
        "  print(\"Fold={} auc={}\".format(fold,auc))"
      ],
      "execution_count": null,
      "outputs": []
    },
    {
      "cell_type": "code",
      "metadata": {
        "id": "GFtEIdzy7jrH"
      },
      "source": [
        ""
      ],
      "execution_count": null,
      "outputs": []
    },
    {
      "cell_type": "markdown",
      "metadata": {
        "id": "Js37aeWM72AF"
      },
      "source": [
        "## Modelling"
      ]
    },
    {
      "cell_type": "markdown",
      "metadata": {
        "id": "9gSH7pJv8GQB"
      },
      "source": [
        "### i. SVM(Linear)"
      ]
    },
    {
      "cell_type": "code",
      "metadata": {
        "id": "3rcbUW8b8OlI"
      },
      "source": [
        "from sklearn.svm import SVC\n",
        "svm = SVC(kernel='linear', probability=True)"
      ],
      "execution_count": null,
      "outputs": []
    },
    {
      "cell_type": "code",
      "metadata": {
        "colab": {
          "base_uri": "https://localhost:8080/",
          "height": 697
        },
        "id": "qFUSsGqk8Fj2",
        "outputId": "df2f53af-eb0a-43b2-e391-63124cc8b0d3"
      },
      "source": [
        "for fold in range(7):\n",
        "  run(df, fold, svm)"
      ],
      "execution_count": null,
      "outputs": [
        {
          "output_type": "error",
          "ename": "AxisError",
          "evalue": "ignored",
          "traceback": [
            "\u001b[0;31m---------------------------------------------------------------------------\u001b[0m",
            "\u001b[0;31mAxisError\u001b[0m                                 Traceback (most recent call last)",
            "\u001b[0;32m<ipython-input-101-c6f0410727f6>\u001b[0m in \u001b[0;36m<module>\u001b[0;34m()\u001b[0m\n\u001b[0;32m----> 1\u001b[0;31m \u001b[0mrun\u001b[0m\u001b[0;34m(\u001b[0m\u001b[0mdf\u001b[0m\u001b[0;34m,\u001b[0m \u001b[0;36m1\u001b[0m\u001b[0;34m,\u001b[0m \u001b[0msvm\u001b[0m\u001b[0;34m)\u001b[0m\u001b[0;34m\u001b[0m\u001b[0;34m\u001b[0m\u001b[0m\n\u001b[0m",
            "\u001b[0;32m<ipython-input-100-03421999174e>\u001b[0m in \u001b[0;36mrun\u001b[0;34m(df, fold, model)\u001b[0m\n\u001b[1;32m     24\u001b[0m \u001b[0;34m\u001b[0m\u001b[0m\n\u001b[1;32m     25\u001b[0m   \u001b[0;34m\"\"\"calculating auc score for classification problem\"\"\"\u001b[0m\u001b[0;34m\u001b[0m\u001b[0;34m\u001b[0m\u001b[0m\n\u001b[0;32m---> 26\u001b[0;31m   \u001b[0mauc\u001b[0m \u001b[0;34m=\u001b[0m \u001b[0mmetrics\u001b[0m\u001b[0;34m.\u001b[0m\u001b[0mroc_auc_score\u001b[0m\u001b[0;34m(\u001b[0m\u001b[0my_test\u001b[0m\u001b[0;34m,\u001b[0m \u001b[0my_pred\u001b[0m\u001b[0;34m,\u001b[0m \u001b[0mmulti_class\u001b[0m\u001b[0;34m=\u001b[0m \u001b[0;34m'ovr'\u001b[0m\u001b[0;34m)\u001b[0m\u001b[0;34m\u001b[0m\u001b[0;34m\u001b[0m\u001b[0m\n\u001b[0m\u001b[1;32m     27\u001b[0m \u001b[0;34m\u001b[0m\u001b[0m\n\u001b[1;32m     28\u001b[0m   \u001b[0mprint\u001b[0m\u001b[0;34m(\u001b[0m\u001b[0;34m\"Fold={} auc={}\"\u001b[0m\u001b[0;34m.\u001b[0m\u001b[0mformat\u001b[0m\u001b[0;34m(\u001b[0m\u001b[0mfold\u001b[0m\u001b[0;34m,\u001b[0m\u001b[0mauc\u001b[0m\u001b[0;34m)\u001b[0m\u001b[0;34m)\u001b[0m\u001b[0;34m\u001b[0m\u001b[0;34m\u001b[0m\u001b[0m\n",
            "\u001b[0;32m/usr/local/lib/python3.7/dist-packages/sklearn/metrics/_ranking.py\u001b[0m in \u001b[0;36mroc_auc_score\u001b[0;34m(y_true, y_score, average, sample_weight, max_fpr, multi_class, labels)\u001b[0m\n\u001b[1;32m    381\u001b[0m             \u001b[0;32mraise\u001b[0m \u001b[0mValueError\u001b[0m\u001b[0;34m(\u001b[0m\u001b[0;34m\"multi_class must be in ('ovo', 'ovr')\"\u001b[0m\u001b[0;34m)\u001b[0m\u001b[0;34m\u001b[0m\u001b[0;34m\u001b[0m\u001b[0m\n\u001b[1;32m    382\u001b[0m         return _multiclass_roc_auc_score(y_true, y_score, labels,\n\u001b[0;32m--> 383\u001b[0;31m                                          multi_class, average, sample_weight)\n\u001b[0m\u001b[1;32m    384\u001b[0m     \u001b[0;32melif\u001b[0m \u001b[0my_type\u001b[0m \u001b[0;34m==\u001b[0m \u001b[0;34m\"binary\"\u001b[0m\u001b[0;34m:\u001b[0m\u001b[0;34m\u001b[0m\u001b[0;34m\u001b[0m\u001b[0m\n\u001b[1;32m    385\u001b[0m         \u001b[0mlabels\u001b[0m \u001b[0;34m=\u001b[0m \u001b[0mnp\u001b[0m\u001b[0;34m.\u001b[0m\u001b[0munique\u001b[0m\u001b[0;34m(\u001b[0m\u001b[0my_true\u001b[0m\u001b[0;34m)\u001b[0m\u001b[0;34m\u001b[0m\u001b[0;34m\u001b[0m\u001b[0m\n",
            "\u001b[0;32m/usr/local/lib/python3.7/dist-packages/sklearn/metrics/_ranking.py\u001b[0m in \u001b[0;36m_multiclass_roc_auc_score\u001b[0;34m(y_true, y_score, labels, multi_class, average, sample_weight)\u001b[0m\n\u001b[1;32m    438\u001b[0m     \"\"\"\n\u001b[1;32m    439\u001b[0m     \u001b[0;31m# validation of the input y_score\u001b[0m\u001b[0;34m\u001b[0m\u001b[0;34m\u001b[0m\u001b[0;34m\u001b[0m\u001b[0m\n\u001b[0;32m--> 440\u001b[0;31m     \u001b[0;32mif\u001b[0m \u001b[0;32mnot\u001b[0m \u001b[0mnp\u001b[0m\u001b[0;34m.\u001b[0m\u001b[0mallclose\u001b[0m\u001b[0;34m(\u001b[0m\u001b[0;36m1\u001b[0m\u001b[0;34m,\u001b[0m \u001b[0my_score\u001b[0m\u001b[0;34m.\u001b[0m\u001b[0msum\u001b[0m\u001b[0;34m(\u001b[0m\u001b[0maxis\u001b[0m\u001b[0;34m=\u001b[0m\u001b[0;36m1\u001b[0m\u001b[0;34m)\u001b[0m\u001b[0;34m)\u001b[0m\u001b[0;34m:\u001b[0m\u001b[0;34m\u001b[0m\u001b[0;34m\u001b[0m\u001b[0m\n\u001b[0m\u001b[1;32m    441\u001b[0m         raise ValueError(\n\u001b[1;32m    442\u001b[0m             \u001b[0;34m\"Target scores need to be probabilities for multiclass \"\u001b[0m\u001b[0;34m\u001b[0m\u001b[0;34m\u001b[0m\u001b[0m\n",
            "\u001b[0;32m/usr/local/lib/python3.7/dist-packages/numpy/core/_methods.py\u001b[0m in \u001b[0;36m_sum\u001b[0;34m(a, axis, dtype, out, keepdims, initial, where)\u001b[0m\n\u001b[1;32m     45\u001b[0m def _sum(a, axis=None, dtype=None, out=None, keepdims=False,\n\u001b[1;32m     46\u001b[0m          initial=_NoValue, where=True):\n\u001b[0;32m---> 47\u001b[0;31m     \u001b[0;32mreturn\u001b[0m \u001b[0mumr_sum\u001b[0m\u001b[0;34m(\u001b[0m\u001b[0ma\u001b[0m\u001b[0;34m,\u001b[0m \u001b[0maxis\u001b[0m\u001b[0;34m,\u001b[0m \u001b[0mdtype\u001b[0m\u001b[0;34m,\u001b[0m \u001b[0mout\u001b[0m\u001b[0;34m,\u001b[0m \u001b[0mkeepdims\u001b[0m\u001b[0;34m,\u001b[0m \u001b[0minitial\u001b[0m\u001b[0;34m,\u001b[0m \u001b[0mwhere\u001b[0m\u001b[0;34m)\u001b[0m\u001b[0;34m\u001b[0m\u001b[0;34m\u001b[0m\u001b[0m\n\u001b[0m\u001b[1;32m     48\u001b[0m \u001b[0;34m\u001b[0m\u001b[0m\n\u001b[1;32m     49\u001b[0m def _prod(a, axis=None, dtype=None, out=None, keepdims=False,\n",
            "\u001b[0;31mAxisError\u001b[0m: axis 1 is out of bounds for array of dimension 1"
          ]
        }
      ]
    },
    {
      "cell_type": "code",
      "metadata": {
        "id": "MEKwAlBkA8i3"
      },
      "source": [
        ""
      ],
      "execution_count": null,
      "outputs": []
    },
    {
      "cell_type": "markdown",
      "metadata": {
        "id": "VxkjnyRjEATB"
      },
      "source": [
        "### ii. SVM(Polynomial)"
      ]
    },
    {
      "cell_type": "code",
      "metadata": {
        "id": "RbVMYIxGEFZH"
      },
      "source": [
        "svm_poly = SVC(kernel='poly')"
      ],
      "execution_count": null,
      "outputs": []
    },
    {
      "cell_type": "code",
      "metadata": {
        "id": "6XVM3iMuE0cI"
      },
      "source": [
        "for fold in range(7):\n",
        "  run(df, fold, svm_poly)"
      ],
      "execution_count": null,
      "outputs": []
    },
    {
      "cell_type": "code",
      "metadata": {
        "id": "RoNfxqiTGlfW"
      },
      "source": [
        ""
      ],
      "execution_count": null,
      "outputs": []
    },
    {
      "cell_type": "markdown",
      "metadata": {
        "id": "TTJQWjyAGnx_"
      },
      "source": [
        "### iii. Decision trees"
      ]
    },
    {
      "cell_type": "code",
      "metadata": {
        "id": "neSXntldGnDS"
      },
      "source": [
        "from sklearn.tree import DecisionTreeClassifier\n",
        "DT = DecisionTreeClassifier(criterion=\"gini\")"
      ],
      "execution_count": null,
      "outputs": []
    },
    {
      "cell_type": "code",
      "metadata": {
        "id": "pH4CPBxxGnGO"
      },
      "source": [
        "for fold in range(7):\n",
        "  run(df, fold, DT)\n",
        "\n"
      ],
      "execution_count": null,
      "outputs": []
    },
    {
      "cell_type": "code",
      "metadata": {
        "id": "CmrH_6iEGnI1"
      },
      "source": [
        ""
      ],
      "execution_count": null,
      "outputs": []
    },
    {
      "cell_type": "markdown",
      "metadata": {
        "id": "6qjriUeaHGX4"
      },
      "source": [
        "### iv. K-nearest neighborhood (kNN)"
      ]
    },
    {
      "cell_type": "code",
      "metadata": {
        "id": "XFqFMbJqGnK0"
      },
      "source": [
        "from sklearn.neighbors import KNeighborsClassifier\n",
        "\n",
        "knn = KNeighborsClassifier(n_neighbors=10)"
      ],
      "execution_count": null,
      "outputs": []
    },
    {
      "cell_type": "code",
      "metadata": {
        "id": "S3sL-OsoGnM4"
      },
      "source": [
        "for fold in range(7):\n",
        "  run(df, fold, knn)"
      ],
      "execution_count": null,
      "outputs": []
    },
    {
      "cell_type": "code",
      "metadata": {
        "id": "Cc18By4ZHb63"
      },
      "source": [
        ""
      ],
      "execution_count": null,
      "outputs": []
    },
    {
      "cell_type": "markdown",
      "metadata": {
        "id": "8Y0V54_sHePA"
      },
      "source": [
        "### v. Multi-layer perceptron (MLP)"
      ]
    },
    {
      "cell_type": "markdown",
      "metadata": {
        "id": "oQ8aUwBEIIr-"
      },
      "source": [
        "Hidden Layer Number 2 <br>\n",
        "Hidden Layer Activation Function Sigmoid <br>\n",
        "Output Layer Activation Number Sigmoid <br>\n",
        "Learning Rate 0.3 <br>\n",
        "Minimum Performance Gradient 1e−5 <br>\n",
        "Performance Goal 1e−3 <br>\n",
        "Maximum Number of Epochs to Train 500<br>"
      ]
    },
    {
      "cell_type": "code",
      "metadata": {
        "id": "llKZPwQfHb85"
      },
      "source": [
        ""
      ],
      "execution_count": null,
      "outputs": []
    },
    {
      "cell_type": "code",
      "metadata": {
        "id": "3ba3n0XLHb_P"
      },
      "source": [
        ""
      ],
      "execution_count": null,
      "outputs": []
    },
    {
      "cell_type": "markdown",
      "metadata": {
        "id": "-C6gFUwSIjjN"
      },
      "source": [
        "My Comments: <br>\n",
        "errors: occured<br><br>\n",
        "==> axis error. this is because y is 1d despite of being multilass. future: should map each class to a value for probability prediction in auc. <br>\n",
        "==> unable to train any models due to this error. \n",
        "future: will come up with a more robust approach to complete this problem. <br><br>\n",
        "\n",
        "Future scope:<br>\n",
        "==> to complete the neural network model training<br>\n",
        "==> to plot the boundaries by reducing the dimensions to gain a visual feeling.<br>\n",
        "==> to do a detailed comparison of all the models performances.<br>\n",
        "==> to reduce the errors.<br>\n",
        "\n"
      ]
    },
    {
      "cell_type": "code",
      "metadata": {
        "id": "f_fJ3EMMHcBx"
      },
      "source": [
        ""
      ],
      "execution_count": null,
      "outputs": []
    },
    {
      "cell_type": "code",
      "metadata": {
        "id": "SwbKuNwdHcGg"
      },
      "source": [
        ""
      ],
      "execution_count": null,
      "outputs": []
    },
    {
      "cell_type": "code",
      "metadata": {
        "id": "y8UY5pUZHcJt"
      },
      "source": [
        ""
      ],
      "execution_count": null,
      "outputs": []
    },
    {
      "cell_type": "code",
      "metadata": {
        "id": "hdE5REPJFj-q"
      },
      "source": [
        ""
      ],
      "execution_count": null,
      "outputs": []
    },
    {
      "cell_type": "code",
      "metadata": {
        "id": "zRzDz_zJFqQV"
      },
      "source": [
        ""
      ],
      "execution_count": null,
      "outputs": []
    }
  ]
}